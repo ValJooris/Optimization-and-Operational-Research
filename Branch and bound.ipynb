{
 "cells": [
  {
   "cell_type": "code",
   "execution_count": 4,
   "id": "38749449",
   "metadata": {},
   "outputs": [
    {
     "name": "stdout",
     "output_type": "stream",
     "text": [
      "Project\tRevenue\tDays\n",
      "4\t25\t62\n",
      "5\t22\t63\n",
      "6\t17\t10\n"
     ]
    }
   ],
   "source": [
    "import csv\n",
    "\n",
    "class Project:\n",
    "    def __init__(self, revenue, days):\n",
    "        self.revenue = revenue\n",
    "        self.days = days\n",
    "\n",
    "def read_input(file_path):\n",
    "    projects = []\n",
    "    with open(file_path, 'r') as csv_file:\n",
    "        csv_reader = csv.reader(csv_file)\n",
    "        next(csv_reader)  # Skip header row\n",
    "        for row in csv_reader:\n",
    "            revenue = int(row[1])\n",
    "            days = int(row[2])\n",
    "            project = Project(revenue, days)\n",
    "            projects.append(project)\n",
    "    return projects\n",
    "\n",
    "def branch_and_bound(projects, budget):\n",
    "    num_projects = len(projects)\n",
    "    best_solution = [0] * num_projects\n",
    "    best_revenue = 0\n",
    "\n",
    "    def backtrack(solution, current_revenue, current_days, current_index):\n",
    "        nonlocal best_solution, best_revenue\n",
    "        if current_index == num_projects:\n",
    "            if current_revenue > best_revenue:\n",
    "                best_solution = solution.copy()\n",
    "                best_revenue = current_revenue\n",
    "            return\n",
    "        \n",
    "        if current_days + projects[current_index].days <= budget:\n",
    "            # Include the project and explore further\n",
    "            solution[current_index] = 1\n",
    "            backtrack(solution, current_revenue + projects[current_index].revenue,\n",
    "                      current_days + projects[current_index].days, current_index + 1)\n",
    "\n",
    "        # Exclude the project and explore further\n",
    "        solution[current_index] = 0\n",
    "        backtrack(solution, current_revenue, current_days, current_index + 1)\n",
    "\n",
    "    backtrack([0] * num_projects, 0, 0, 0)\n",
    "    return best_solution\n",
    "\n",
    "def print_solution(projects, solution):\n",
    "    print(\"Project\\tRevenue\\tDays\")\n",
    "    for i, project in enumerate(projects):\n",
    "        if solution[i] == 1:\n",
    "            print(f\"{i+1}\\t{project.revenue}\\t{project.days}\")\n",
    "\n",
    "# Read input from CSV file\n",
    "projects = read_input('BnB.csv')\n",
    "\n",
    "# Set the budget of researcher days\n",
    "budget = 150\n",
    "\n",
    "# Solve the problem using branch and bound algorithm\n",
    "solution = branch_and_bound(projects, budget)\n",
    "\n",
    "# Print the optimal solution\n",
    "print_solution(projects, solution)\n"
   ]
  },
  {
   "cell_type": "code",
   "execution_count": null,
   "id": "d9377fb0",
   "metadata": {},
   "outputs": [],
   "source": []
  }
 ],
 "metadata": {
  "kernelspec": {
   "display_name": "Python 3 (ipykernel)",
   "language": "python",
   "name": "python3"
  },
  "language_info": {
   "codemirror_mode": {
    "name": "ipython",
    "version": 3
   },
   "file_extension": ".py",
   "mimetype": "text/x-python",
   "name": "python",
   "nbconvert_exporter": "python",
   "pygments_lexer": "ipython3",
   "version": "3.9.13"
  }
 },
 "nbformat": 4,
 "nbformat_minor": 5
}
