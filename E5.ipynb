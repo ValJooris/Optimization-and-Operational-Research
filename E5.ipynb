{
 "cells": [
  {
   "cell_type": "markdown",
   "id": "4e735fce",
   "metadata": {},
   "source": [
    "# Exercice 5"
   ]
  },
  {
   "cell_type": "code",
   "execution_count": 1,
   "id": "93fc5248",
   "metadata": {},
   "outputs": [
    {
     "name": "stdout",
     "output_type": "stream",
     "text": [
      "Number of variables = 2\n",
      "Number of constraints = 5\n",
      "Solution:\n",
      "Objective value = 8.0\n",
      "x = 1.3333333333333333\n",
      "y = 3.3333333333333335\n",
      "\n",
      "Advanced usage:\n",
      "Problem solved in 7.000000 milliseconds\n",
      "Problem solved in 2 iterations\n"
     ]
    }
   ],
   "source": [
    "from ortools.linear_solver import pywraplp\n",
    "\n",
    "def LinearProgrammingEx5():\n",
    "    \"\"\"Linear programming sample.\"\"\"\n",
    "    # Instantiate a Glop solver, naming it LinearExample.\n",
    "    solver = pywraplp.Solver.CreateSolver('GLOP')\n",
    "    if not solver:\n",
    "        return\n",
    "\n",
    "    # Create the two variables and let them take on any non-negative value.\n",
    "    x = solver.NumVar(0, solver.infinity(), 'x')\n",
    "    y = solver.NumVar(0, solver.infinity(), 'y')\n",
    "    print('Number of variables =', solver.NumVariables())\n",
    "\n",
    "    solver.Add(-x+y <= 2)\n",
    "    solver.Add(x +2*y <= 8)\n",
    "    solver.Add(x<=6)\n",
    "    solver.Add(y>=0)\n",
    "    solver.Add(x>=0)\n",
    "    print('Number of constraints =', solver.NumConstraints())\n",
    "\n",
    "    solver.Maximize(x +  2*y)\n",
    "    status = solver.Solve()\n",
    "\n",
    "    if status == pywraplp.Solver.OPTIMAL:\n",
    "        print('Solution:')\n",
    "        print('Objective value =', solver.Objective().Value())\n",
    "        print('x =', x.solution_value())\n",
    "        print('y =', y.solution_value())\n",
    "    else:\n",
    "        print('The problem does not have an optimal solution.')\n",
    "\n",
    "    print('\\nAdvanced usage:')\n",
    "    print('Problem solved in %f milliseconds' % solver.wall_time())\n",
    "    print('Problem solved in %d iterations' % solver.iterations())\n",
    "\n",
    "\n",
    "LinearProgrammingEx5()"
   ]
  },
  {
   "cell_type": "markdown",
   "id": "39d5a17c",
   "metadata": {},
   "source": [
    "# Exercice 6"
   ]
  },
  {
   "cell_type": "code",
   "execution_count": 2,
   "id": "4b51f2b6",
   "metadata": {},
   "outputs": [
    {
     "name": "stdout",
     "output_type": "stream",
     "text": [
      "Number of variables = 2\n",
      "Number of constraints = 5\n",
      "The problem does not have an optimal solution.\n",
      "\n",
      "Advanced usage:\n",
      "Problem solved in 2.000000 milliseconds\n",
      "Problem solved in 0 iterations\n"
     ]
    }
   ],
   "source": [
    "def LinearProgrammingEx6():\n",
    "    \"\"\"Linear programming sample.\"\"\"\n",
    "    # Instantiate a Glop solver, naming it LinearExample.\n",
    "    solver = pywraplp.Solver.CreateSolver('GLOP')\n",
    "    if not solver:\n",
    "        return\n",
    "\n",
    "    # Create the two variables and let them take on any non-negative value.\n",
    "    x = solver.NumVar(0, solver.infinity(), 'x')\n",
    "    y = solver.NumVar(0, solver.infinity(), 'y')\n",
    "    print('Number of variables =', solver.NumVariables())\n",
    "\n",
    "    solver.Add(x+y >= 4)\n",
    "    solver.Add(-x +y <= 4)\n",
    "    solver.Add(-x+2*y>=-4)\n",
    "    solver.Add(y>=0)\n",
    "    solver.Add(x>=0)\n",
    "    print('Number of constraints =', solver.NumConstraints())\n",
    "\n",
    "    solver.Maximize(3 * x +  y)\n",
    "    status = solver.Solve()\n",
    "\n",
    "    if status == pywraplp.Solver.OPTIMAL:\n",
    "        print('Solution:')\n",
    "        print('Objective value =', solver.Objective().Value())\n",
    "        print('x =', x.solution_value())\n",
    "        print('y =', y.solution_value())\n",
    "    else:\n",
    "        print('The problem does not have an optimal solution.')\n",
    "\n",
    "    print('\\nAdvanced usage:')\n",
    "    print('Problem solved in %f milliseconds' % solver.wall_time())\n",
    "    print('Problem solved in %d iterations' % solver.iterations())\n",
    "\n",
    "\n",
    "LinearProgrammingEx6()"
   ]
  },
  {
   "cell_type": "markdown",
   "id": "03684ec7",
   "metadata": {},
   "source": [
    "# Exercice 7"
   ]
  },
  {
   "cell_type": "code",
   "execution_count": 3,
   "id": "7e66ad01",
   "metadata": {},
   "outputs": [
    {
     "name": "stdout",
     "output_type": "stream",
     "text": [
      "Number of variables = 2\n",
      "Number of constraints = 4\n",
      "The problem does not have an optimal solution.\n",
      "\n",
      "Advanced usage:\n",
      "Problem solved in 2.000000 milliseconds\n",
      "Problem solved in 0 iterations\n"
     ]
    }
   ],
   "source": [
    "def LinearProgrammingEx7():\n",
    "    \"\"\"Linear programming sample.\"\"\"\n",
    "    # Instantiate a Glop solver, naming it LinearExample.\n",
    "    solver = pywraplp.Solver.CreateSolver('GLOP')\n",
    "    if not solver:\n",
    "        return\n",
    "\n",
    "    # Create the two variables and let them take on any non-negative value.\n",
    "    x = solver.NumVar(0, solver.infinity(), 'x')\n",
    "    y = solver.NumVar(0, solver.infinity(), 'y')\n",
    "    print('Number of variables =', solver.NumVariables())\n",
    "\n",
    "    solver.Add(-x +2*y <= -4)\n",
    "    solver.Add(-x+y>=4)\n",
    "    solver.Add(y>=0)\n",
    "    solver.Add(x>=0)\n",
    "    print('Number of constraints =', solver.NumConstraints())\n",
    "\n",
    "    solver.Maximize(3 * x +  y)\n",
    "    status = solver.Solve()\n",
    "\n",
    "    if status == pywraplp.Solver.OPTIMAL:\n",
    "        print('Solution:')\n",
    "        print('Objective value =', solver.Objective().Value())\n",
    "        print('x =', x.solution_value())\n",
    "        print('y =', y.solution_value())\n",
    "    else:\n",
    "        print('The problem does not have an optimal solution.')\n",
    "\n",
    "    print('\\nAdvanced usage:')\n",
    "    print('Problem solved in %f milliseconds' % solver.wall_time())\n",
    "    print('Problem solved in %d iterations' % solver.iterations())\n",
    "\n",
    "\n",
    "LinearProgrammingEx7()"
   ]
  },
  {
   "cell_type": "code",
   "execution_count": null,
   "id": "ed5ffc5c",
   "metadata": {},
   "outputs": [],
   "source": []
  }
 ],
 "metadata": {
  "kernelspec": {
   "display_name": "Python 3 (ipykernel)",
   "language": "python",
   "name": "python3"
  },
  "language_info": {
   "codemirror_mode": {
    "name": "ipython",
    "version": 3
   },
   "file_extension": ".py",
   "mimetype": "text/x-python",
   "name": "python",
   "nbconvert_exporter": "python",
   "pygments_lexer": "ipython3",
   "version": "3.9.13"
  }
 },
 "nbformat": 4,
 "nbformat_minor": 5
}
