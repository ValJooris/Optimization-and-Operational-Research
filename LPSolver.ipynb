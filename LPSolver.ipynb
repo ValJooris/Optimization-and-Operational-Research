{
 "cells": [
  {
   "cell_type": "markdown",
   "id": "61f99642",
   "metadata": {},
   "source": [
    "Build a working Python code using Google OR tools’ MPSolver interface to\n",
    "solve an arbitrary LP problem. Test it with the different exercises in the\n",
    "presentation \"Unit2_LinearProgramming_Introduction.pdf\"."
   ]
  },
  {
   "cell_type": "code",
   "execution_count": 1,
   "id": "61b2d2dc",
   "metadata": {},
   "outputs": [],
   "source": [
    "from ortools.linear_solver import pywraplp\n",
    "\n",
    "\n",
    "def LinearProgrammingExample():\n",
    "    \"\"\"Linear programming sample.\"\"\"\n",
    "    # Instantiate a Glop solver, naming it LinearExample.\n",
    "    solver = pywraplp.Solver.CreateSolver('GLOP')\n",
    "    if not solver:\n",
    "        return\n",
    "\n",
    "    # Create the two variables and let them take on any non-negative value.\n",
    "    x = solver.NumVar(0, solver.infinity(), 'x')\n",
    "    y = solver.NumVar(0, solver.infinity(), 'y')\n",
    "\n",
    "    #print('Number of variables =', solver.NumVariables())\n",
    "\n",
    "    # Constraint 0: x + 2y <= 14.\n",
    "    solver.Add(x + 2 * y <= 14.0)\n",
    "\n",
    "    # Constraint 1: 3x - y >= 0.\n",
    "    solver.Add(3 * x - y >= 0.0)\n",
    "\n",
    "    # Constraint 2: x - y <= 2.\n",
    "    solver.Add(x - y <= 2.0)\n",
    "\n",
    "    #print('Number of constraints =', solver.NumConstraints())\n",
    "\n",
    "    # Objective function: 3x + 4y.\n",
    "    solver.Maximize(3 * x + 4 * y)\n",
    "\n",
    "    # Solve the system.\n",
    "    status = solver.Solve()\n",
    "\n",
    "\n",
    "LinearProgrammingExample()"
   ]
  },
  {
   "cell_type": "markdown",
   "id": "89723a6c",
   "metadata": {},
   "source": [
    "# EXERCICE 1"
   ]
  },
  {
   "cell_type": "code",
   "execution_count": 2,
   "id": "7bdbbdaf",
   "metadata": {
    "scrolled": true
   },
   "outputs": [
    {
     "name": "stdout",
     "output_type": "stream",
     "text": [
      "Number of variables = 2\n",
      "Number of constraints = 4\n",
      "Solution:\n",
      "Objective value = 9459.999999999998\n",
      "x = 149.99999999999977\n",
      "y = 220.00000000000014\n",
      "\n",
      "Advanced usage:\n",
      "Problem solved in 0.000000 milliseconds\n",
      "Problem solved in 2 iterations\n"
     ]
    }
   ],
   "source": [
    "def LinearProgrammingEx1():\n",
    "    \"\"\"Linear programming sample.\"\"\"\n",
    "    # Instantiate a Glop solver, naming it LinearExample.\n",
    "    solver = pywraplp.Solver.CreateSolver('GLOP')\n",
    "    if not solver:\n",
    "        return\n",
    "\n",
    "    # Create the two variables and let them take on any non-negative value.\n",
    "    x = solver.NumVar(0, solver.infinity(), 'x')\n",
    "    y = solver.NumVar(0, solver.infinity(), 'y')\n",
    "    print('Number of variables =', solver.NumVariables())\n",
    "\n",
    "    solver.Add(8*x + 10 * y <= 3400)\n",
    "    solver.Add(2 * x +3*y <= 960)\n",
    "    solver.Add(x>=0)\n",
    "    solver.Add(y>=0)\n",
    "    print('Number of constraints =', solver.NumConstraints())\n",
    "\n",
    "    solver.Maximize(22 * x + 28 * y)\n",
    "    status = solver.Solve()\n",
    "\n",
    "    if status == pywraplp.Solver.OPTIMAL:\n",
    "        print('Solution:')\n",
    "        print('Objective value =', solver.Objective().Value())\n",
    "        print('x =', x.solution_value())\n",
    "        print('y =', y.solution_value())\n",
    "    else:\n",
    "        print('The problem does not have an optimal solution.')\n",
    "\n",
    "    print('\\nAdvanced usage:')\n",
    "    print('Problem solved in %f milliseconds' % solver.wall_time())\n",
    "    print('Problem solved in %d iterations' % solver.iterations())\n",
    "\n",
    "\n",
    "LinearProgrammingEx1()"
   ]
  },
  {
   "cell_type": "markdown",
   "id": "131eb978",
   "metadata": {},
   "source": [
    "# Exercice 2"
   ]
  },
  {
   "cell_type": "code",
   "execution_count": 3,
   "id": "5471af9c",
   "metadata": {},
   "outputs": [
    {
     "name": "stdout",
     "output_type": "stream",
     "text": [
      "Number of variables = 4\n",
      "Number of constraints = 8\n",
      "Solution:\n",
      "Objective value = -18294.0\n",
      "x = 0.0\n",
      "y = 0.0\n",
      "\n",
      "Advanced usage:\n",
      "Problem solved in 0.000000 milliseconds\n",
      "Problem solved in 0 iterations\n"
     ]
    }
   ],
   "source": [
    "def LinearProgrammingEx2():\n",
    "    \"\"\"Linear programming sample.\"\"\"\n",
    "    # Instantiate a Glop solver, naming it LinearExample.\n",
    "    solver = pywraplp.Solver.CreateSolver('GLOP')\n",
    "    if not solver:\n",
    "        return\n",
    "\n",
    "    # Create the two variables and let them take on any non-negative value.\n",
    "    x = solver.NumVar(0, solver.infinity(), 'x')\n",
    "    y = solver.NumVar(0, solver.infinity(), 'y')\n",
    "    z = solver.NumVar(0, solver.infinity(), 'z')\n",
    "    w = solver.NumVar(0, solver.infinity(), 'w')\n",
    "    print('Number of variables =', solver.NumVariables())\n",
    "\n",
    "    solver.Add(500<=x<=700)\n",
    "    solver.Add(500<=y<=700)\n",
    "    solver.Add(500<=z<=600)\n",
    "    solver.Add(500<=w<=800)\n",
    "    solver.Add(x>=0)\n",
    "    solver.Add(y>=0)\n",
    "    solver.Add(z>=0)\n",
    "    solver.Add(w>=0)\n",
    "    print('Number of constraints =', solver.NumConstraints())\n",
    "\n",
    "    a1 = 250*x-900\n",
    "    a2 = a1+y-600\n",
    "    a3 = a2 + z -800\n",
    "    a4 = a3+w-600\n",
    "    solver.Minimize(15 * (x+y+z+w) + 3 * (a1+2+a3+a4))\n",
    "    status = solver.Solve()\n",
    "\n",
    "    if status == pywraplp.Solver.OPTIMAL:\n",
    "        print('Solution:')\n",
    "        print('Objective value =', solver.Objective().Value())\n",
    "        print('x =', x.solution_value())\n",
    "        print('y =', y.solution_value())\n",
    "    else:\n",
    "        print('The problem does not have an optimal solution.')\n",
    "\n",
    "    print('\\nAdvanced usage:')\n",
    "    print('Problem solved in %f milliseconds' % solver.wall_time())\n",
    "    print('Problem solved in %d iterations' % solver.iterations())\n",
    "\n",
    "\n",
    "LinearProgrammingEx2()"
   ]
  },
  {
   "cell_type": "markdown",
   "id": "125c9b88",
   "metadata": {},
   "source": [
    "# Exercice 3"
   ]
  },
  {
   "cell_type": "code",
   "execution_count": 4,
   "id": "72303998",
   "metadata": {
    "scrolled": true
   },
   "outputs": [
    {
     "name": "stdout",
     "output_type": "stream",
     "text": [
      "Number of variables = 2\n",
      "Number of constraints = 5\n",
      "Solution:\n",
      "Objective value = 22.0\n",
      "x = 6.0\n",
      "y = 4.0\n",
      "\n",
      "Advanced usage:\n",
      "Problem solved in 1.000000 milliseconds\n",
      "Problem solved in 2 iterations\n"
     ]
    }
   ],
   "source": [
    "def LinearProgrammingEx3():\n",
    "    \"\"\"Linear programming sample.\"\"\"\n",
    "    # Instantiate a Glop solver, naming it LinearExample.\n",
    "    solver = pywraplp.Solver.CreateSolver('GLOP')\n",
    "    if not solver:\n",
    "        return\n",
    "\n",
    "    # Create the two variables and let them take on any non-negative value.\n",
    "    x = solver.NumVar(0, solver.infinity(), 'x')\n",
    "    y = solver.NumVar(0, solver.infinity(), 'y')\n",
    "    print('Number of variables =', solver.NumVariables())\n",
    "\n",
    "    solver.Add(y <= 5)\n",
    "    solver.Add(x +y <= 10)\n",
    "    solver.Add(-x+y>=-2)\n",
    "    solver.Add(y>=0)\n",
    "    solver.Add(x>=0)\n",
    "    print('Number of constraints =', solver.NumConstraints())\n",
    "\n",
    "    solver.Maximize(3 * x +  y)\n",
    "    status = solver.Solve()\n",
    "\n",
    "    if status == pywraplp.Solver.OPTIMAL:\n",
    "        print('Solution:')\n",
    "        print('Objective value =', solver.Objective().Value())\n",
    "        print('x =', x.solution_value())\n",
    "        print('y =', y.solution_value())\n",
    "    else:\n",
    "        print('The problem does not have an optimal solution.')\n",
    "\n",
    "    print('\\nAdvanced usage:')\n",
    "    print('Problem solved in %f milliseconds' % solver.wall_time())\n",
    "    print('Problem solved in %d iterations' % solver.iterations())\n",
    "\n",
    "\n",
    "LinearProgrammingEx3()"
   ]
  },
  {
   "cell_type": "markdown",
   "id": "f041edce",
   "metadata": {},
   "source": [
    "# Exercice 4"
   ]
  },
  {
   "cell_type": "code",
   "execution_count": 5,
   "id": "4ec773e1",
   "metadata": {},
   "outputs": [
    {
     "name": "stdout",
     "output_type": "stream",
     "text": [
      "Number of variables = 2\n",
      "Number of constraints = 5\n",
      "Solution:\n",
      "Objective value = 4.0\n",
      "x = 1.0\n",
      "y = 3.0\n",
      "\n",
      "Advanced usage:\n",
      "Problem solved in 0.000000 milliseconds\n",
      "Problem solved in 0 iterations\n"
     ]
    }
   ],
   "source": [
    "def LinearProgrammingEx4():\n",
    "    \"\"\"Linear programming sample.\"\"\"\n",
    "    # Instantiate a Glop solver, naming it LinearExample.\n",
    "    solver = pywraplp.Solver.CreateSolver('GLOP')\n",
    "    if not solver:\n",
    "        return\n",
    "\n",
    "    # Create the two variables and let them take on any non-negative value.\n",
    "    x = solver.NumVar(0, solver.infinity(), 'x')\n",
    "    y = solver.NumVar(0, solver.infinity(), 'y')\n",
    "    print('Number of variables =', solver.NumVariables())\n",
    "\n",
    "    solver.Add(y >= 3)\n",
    "    solver.Add(3*x +y >= 6)\n",
    "    solver.Add(x<=4)\n",
    "    solver.Add(y>=0)\n",
    "    solver.Add(x>=0)\n",
    "    print('Number of constraints =', solver.NumConstraints())\n",
    "\n",
    "    solver.Minimize(x +  y)\n",
    "    status = solver.Solve()\n",
    "\n",
    "    if status == pywraplp.Solver.OPTIMAL:\n",
    "        print('Solution:')\n",
    "        print('Objective value =', solver.Objective().Value())\n",
    "        print('x =', x.solution_value())\n",
    "        print('y =', y.solution_value())\n",
    "    else:\n",
    "        print('The problem does not have an optimal solution.')\n",
    "\n",
    "    print('\\nAdvanced usage:')\n",
    "    print('Problem solved in %f milliseconds' % solver.wall_time())\n",
    "    print('Problem solved in %d iterations' % solver.iterations())\n",
    "\n",
    "\n",
    "LinearProgrammingEx4()"
   ]
  },
  {
   "cell_type": "markdown",
   "id": "a9728f8a",
   "metadata": {},
   "source": [
    "# Exercice 5"
   ]
  },
  {
   "cell_type": "code",
   "execution_count": 13,
   "id": "8f44f533",
   "metadata": {},
   "outputs": [
    {
     "name": "stdout",
     "output_type": "stream",
     "text": [
      "Number of variables = 2\n",
      "Number of constraints = 5\n",
      "Solution:\n",
      "Objective value = 8.0\n",
      "x = 1.3333333333333333\n",
      "y = 3.3333333333333335\n",
      "\n",
      "Advanced usage:\n",
      "Problem solved in 1.000000 milliseconds\n",
      "Problem solved in 2 iterations\n"
     ]
    }
   ],
   "source": [
    "def LinearProgrammingEx5():\n",
    "    \"\"\"Linear programming sample.\"\"\"\n",
    "    # Instantiate a Glop solver, naming it LinearExample.\n",
    "    solver = pywraplp.Solver.CreateSolver('GLOP')\n",
    "    if not solver:\n",
    "        return\n",
    "\n",
    "    # Create the two variables and let them take on any non-negative value.\n",
    "    x = solver.NumVar(0, solver.infinity(), 'x')\n",
    "    y = solver.NumVar(0, solver.infinity(), 'y')\n",
    "    print('Number of variables =', solver.NumVariables())\n",
    "\n",
    "    solver.Add(-x+y <= 2)\n",
    "    solver.Add(x +2*y <= 8)\n",
    "    solver.Add(x<=6)\n",
    "    solver.Add(y>=0)\n",
    "    solver.Add(x>=0)\n",
    "    print('Number of constraints =', solver.NumConstraints())\n",
    "\n",
    "    solver.Maximize(x +  2*y)\n",
    "    status = solver.Solve()\n",
    "\n",
    "    if status == pywraplp.Solver.OPTIMAL:\n",
    "        print('Solution:')\n",
    "        print('Objective value =', solver.Objective().Value())\n",
    "        print('x =', x.solution_value())\n",
    "        print('y =', y.solution_value())\n",
    "    else:\n",
    "        print('The problem does not have an optimal solution.')\n",
    "\n",
    "    print('\\nAdvanced usage:')\n",
    "    print('Problem solved in %f milliseconds' % solver.wall_time())\n",
    "    print('Problem solved in %d iterations' % solver.iterations())\n",
    "\n",
    "\n",
    "LinearProgrammingEx5()"
   ]
  },
  {
   "cell_type": "markdown",
   "id": "cc44a310",
   "metadata": {},
   "source": [
    "# Exercice 6"
   ]
  },
  {
   "cell_type": "code",
   "execution_count": 14,
   "id": "e9ba6eb7",
   "metadata": {},
   "outputs": [
    {
     "name": "stdout",
     "output_type": "stream",
     "text": [
      "Number of variables = 2\n",
      "Number of constraints = 5\n",
      "The problem does not have an optimal solution.\n",
      "\n",
      "Advanced usage:\n",
      "Problem solved in 1.000000 milliseconds\n",
      "Problem solved in 0 iterations\n"
     ]
    }
   ],
   "source": [
    "def LinearProgrammingEx6():\n",
    "    \"\"\"Linear programming sample.\"\"\"\n",
    "    # Instantiate a Glop solver, naming it LinearExample.\n",
    "    solver = pywraplp.Solver.CreateSolver('GLOP')\n",
    "    if not solver:\n",
    "        return\n",
    "\n",
    "    # Create the two variables and let them take on any non-negative value.\n",
    "    x = solver.NumVar(0, solver.infinity(), 'x')\n",
    "    y = solver.NumVar(0, solver.infinity(), 'y')\n",
    "    print('Number of variables =', solver.NumVariables())\n",
    "\n",
    "    solver.Add(x+y >= 4)\n",
    "    solver.Add(-x +y <= 4)\n",
    "    solver.Add(-x+2*y>=-4)\n",
    "    solver.Add(y>=0)\n",
    "    solver.Add(x>=0)\n",
    "    print('Number of constraints =', solver.NumConstraints())\n",
    "\n",
    "    solver.Maximize(3 * x +  y)\n",
    "    status = solver.Solve()\n",
    "\n",
    "    if status == pywraplp.Solver.OPTIMAL:\n",
    "        print('Solution:')\n",
    "        print('Objective value =', solver.Objective().Value())\n",
    "        print('x =', x.solution_value())\n",
    "        print('y =', y.solution_value())\n",
    "    else:\n",
    "        print('The problem does not have an optimal solution.')\n",
    "\n",
    "    print('\\nAdvanced usage:')\n",
    "    print('Problem solved in %f milliseconds' % solver.wall_time())\n",
    "    print('Problem solved in %d iterations' % solver.iterations())\n",
    "\n",
    "\n",
    "LinearProgrammingEx6()"
   ]
  },
  {
   "cell_type": "markdown",
   "id": "123cc873",
   "metadata": {},
   "source": [
    "# Exercice 7"
   ]
  },
  {
   "cell_type": "code",
   "execution_count": 16,
   "id": "988fe51e",
   "metadata": {},
   "outputs": [
    {
     "name": "stdout",
     "output_type": "stream",
     "text": [
      "Number of variables = 2\n",
      "Number of constraints = 4\n",
      "The problem does not have an optimal solution.\n",
      "\n",
      "Advanced usage:\n",
      "Problem solved in 0.000000 milliseconds\n",
      "Problem solved in 0 iterations\n"
     ]
    }
   ],
   "source": [
    "def LinearProgrammingEx7():\n",
    "    \"\"\"Linear programming sample.\"\"\"\n",
    "    # Instantiate a Glop solver, naming it LinearExample.\n",
    "    solver = pywraplp.Solver.CreateSolver('GLOP')\n",
    "    if not solver:\n",
    "        return\n",
    "\n",
    "    # Create the two variables and let them take on any non-negative value.\n",
    "    x = solver.NumVar(0, solver.infinity(), 'x')\n",
    "    y = solver.NumVar(0, solver.infinity(), 'y')\n",
    "    print('Number of variables =', solver.NumVariables())\n",
    "\n",
    "    solver.Add(-x +2*y <= -4)\n",
    "    solver.Add(-x+y>=4)\n",
    "    solver.Add(y>=0)\n",
    "    solver.Add(x>=0)\n",
    "    print('Number of constraints =', solver.NumConstraints())\n",
    "\n",
    "    solver.Maximize(3 * x +  y)\n",
    "    status = solver.Solve()\n",
    "\n",
    "    if status == pywraplp.Solver.OPTIMAL:\n",
    "        print('Solution:')\n",
    "        print('Objective value =', solver.Objective().Value())\n",
    "        print('x =', x.solution_value())\n",
    "        print('y =', y.solution_value())\n",
    "    else:\n",
    "        print('The problem does not have an optimal solution.')\n",
    "\n",
    "    print('\\nAdvanced usage:')\n",
    "    print('Problem solved in %f milliseconds' % solver.wall_time())\n",
    "    print('Problem solved in %d iterations' % solver.iterations())\n",
    "\n",
    "\n",
    "LinearProgrammingEx7()"
   ]
  }
 ],
 "metadata": {
  "kernelspec": {
   "display_name": "Python 3 (ipykernel)",
   "language": "python",
   "name": "python3"
  },
  "language_info": {
   "codemirror_mode": {
    "name": "ipython",
    "version": 3
   },
   "file_extension": ".py",
   "mimetype": "text/x-python",
   "name": "python",
   "nbconvert_exporter": "python",
   "pygments_lexer": "ipython3",
   "version": "3.9.13"
  }
 },
 "nbformat": 4,
 "nbformat_minor": 5
}
